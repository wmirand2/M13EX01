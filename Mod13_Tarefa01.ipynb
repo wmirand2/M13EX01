{
 "cells": [
  {
   "cell_type": "markdown",
   "metadata": {},
   "source": [
    "# EBAC - Regressão II - regressão múltipla\n",
    "\n",
    "## Tarefa I"
   ]
  },
  {
   "cell_type": "markdown",
   "metadata": {},
   "source": [
    "#### Previsão de renda\n",
    "\n",
    "Vamos trabalhar com a base 'previsao_de_renda.csv', que é a base do seu próximo projeto. Vamos usar os recursos que vimos até aqui nesta base.\n",
    "\n",
    "|variavel|descrição|\n",
    "|-|-|\n",
    "|data_ref                | Data de referência de coleta das variáveis |\n",
    "|index                   | Código de identificação do cliente|\n",
    "|sexo                    | Sexo do cliente|\n",
    "|posse_de_veiculo        | Indica se o cliente possui veículo|\n",
    "|posse_de_imovel         | Indica se o cliente possui imóvel|\n",
    "|qtd_filhos              | Quantidade de filhos do cliente|\n",
    "|tipo_renda              | Tipo de renda do cliente|\n",
    "|educacao                | Grau de instrução do cliente|\n",
    "|estado_civil            | Estado civil do cliente|\n",
    "|tipo_residencia         | Tipo de residência do cliente (própria, alugada etc)|\n",
    "|idade                   | Idade do cliente|\n",
    "|tempo_emprego           | Tempo no emprego atual|\n",
    "|qt_pessoas_residencia   | Quantidade de pessoas que moram na residência|\n",
    "|renda                   | Renda em reais|"
   ]
  },
  {
   "cell_type": "code",
   "execution_count": 1,
   "metadata": {},
   "outputs": [],
   "source": [
    "#Importando bibliotecas\n",
    "import pandas as pd\n",
    "import numpy as np\n",
    "import patsy\n",
    "from patsy import dmatrix\n",
    "import statsmodels.api as sm"
   ]
  },
  {
   "cell_type": "code",
   "execution_count": 2,
   "metadata": {},
   "outputs": [],
   "source": [
    "df = pd.read_csv('previsao_de_renda.csv')"
   ]
  },
  {
   "cell_type": "code",
   "execution_count": 3,
   "metadata": {},
   "outputs": [
    {
     "name": "stdout",
     "output_type": "stream",
     "text": [
      "<class 'pandas.core.frame.DataFrame'>\n",
      "RangeIndex: 15000 entries, 0 to 14999\n",
      "Data columns (total 15 columns):\n",
      " #   Column                 Non-Null Count  Dtype  \n",
      "---  ------                 --------------  -----  \n",
      " 0   Unnamed: 0             15000 non-null  int64  \n",
      " 1   data_ref               15000 non-null  object \n",
      " 2   id_cliente             15000 non-null  int64  \n",
      " 3   sexo                   15000 non-null  object \n",
      " 4   posse_de_veiculo       15000 non-null  bool   \n",
      " 5   posse_de_imovel        15000 non-null  bool   \n",
      " 6   qtd_filhos             15000 non-null  int64  \n",
      " 7   tipo_renda             15000 non-null  object \n",
      " 8   educacao               15000 non-null  object \n",
      " 9   estado_civil           15000 non-null  object \n",
      " 10  tipo_residencia        15000 non-null  object \n",
      " 11  idade                  15000 non-null  int64  \n",
      " 12  tempo_emprego          12427 non-null  float64\n",
      " 13  qt_pessoas_residencia  15000 non-null  float64\n",
      " 14  renda                  15000 non-null  float64\n",
      "dtypes: bool(2), float64(3), int64(4), object(6)\n",
      "memory usage: 1.5+ MB\n"
     ]
    }
   ],
   "source": [
    "df.info()"
   ]
  },
  {
   "cell_type": "markdown",
   "metadata": {},
   "source": [
    "1. Ajuste um modelo para prever log(renda) considerando todas as covariáveis disponíveis.\n",
    "    - Utilizando os recursos do Patsy, coloque as variáveis qualitativas como *dummies*.\n",
    "    - Mantenha sempre a categoria mais frequente como casela de referência\n",
    "    - Avalie os parâmetros e veja se parecem fazer sentido prático.  \n",
    "\n",
    "\n",
    "2. Remova a variável menos significante e analise:\n",
    "    - Observe os indicadores que vimos, e avalie se o modelo melhorou ou piorou na sua opinião.\n",
    "    - Observe os parâmetros e veja se algum se alterou muito.  \n",
    "\n",
    "\n",
    "3. Siga removendo as variáveis menos significantes, sempre que o *p-value* for menor que 5%. Compare o modelo final com o inicial. Observe os indicadores e conclua se o modelo parece melhor. \n",
    "    "
   ]
  },
  {
   "cell_type": "markdown",
   "metadata": {},
   "source": [
    "## 1- Ajustando um modelo para prever log(renda) considerando todas as covariáveis disponíveis."
   ]
  },
  {
   "cell_type": "markdown",
   "metadata": {},
   "source": [
    "##### Verificando as variáveis qualitativas"
   ]
  },
  {
   "cell_type": "code",
   "execution_count": 4,
   "metadata": {},
   "outputs": [
    {
     "data": {
      "text/html": [
       "<div>\n",
       "<style scoped>\n",
       "    .dataframe tbody tr th:only-of-type {\n",
       "        vertical-align: middle;\n",
       "    }\n",
       "\n",
       "    .dataframe tbody tr th {\n",
       "        vertical-align: top;\n",
       "    }\n",
       "\n",
       "    .dataframe thead th {\n",
       "        text-align: right;\n",
       "    }\n",
       "</style>\n",
       "<table border=\"1\" class=\"dataframe\">\n",
       "  <thead>\n",
       "    <tr style=\"text-align: right;\">\n",
       "      <th></th>\n",
       "      <th>data_ref</th>\n",
       "      <th>sexo</th>\n",
       "      <th>posse_de_veiculo</th>\n",
       "      <th>posse_de_imovel</th>\n",
       "      <th>tipo_renda</th>\n",
       "      <th>educacao</th>\n",
       "      <th>estado_civil</th>\n",
       "      <th>tipo_residencia</th>\n",
       "    </tr>\n",
       "  </thead>\n",
       "  <tbody>\n",
       "    <tr>\n",
       "      <th>0</th>\n",
       "      <td>2015-01-01</td>\n",
       "      <td>F</td>\n",
       "      <td>False</td>\n",
       "      <td>True</td>\n",
       "      <td>Empresário</td>\n",
       "      <td>Secundário</td>\n",
       "      <td>Solteiro</td>\n",
       "      <td>Casa</td>\n",
       "    </tr>\n",
       "    <tr>\n",
       "      <th>1</th>\n",
       "      <td>2015-01-01</td>\n",
       "      <td>M</td>\n",
       "      <td>True</td>\n",
       "      <td>True</td>\n",
       "      <td>Assalariado</td>\n",
       "      <td>Superior completo</td>\n",
       "      <td>Casado</td>\n",
       "      <td>Casa</td>\n",
       "    </tr>\n",
       "    <tr>\n",
       "      <th>2</th>\n",
       "      <td>2015-01-01</td>\n",
       "      <td>F</td>\n",
       "      <td>True</td>\n",
       "      <td>True</td>\n",
       "      <td>Empresário</td>\n",
       "      <td>Superior completo</td>\n",
       "      <td>Casado</td>\n",
       "      <td>Casa</td>\n",
       "    </tr>\n",
       "    <tr>\n",
       "      <th>3</th>\n",
       "      <td>2015-01-01</td>\n",
       "      <td>F</td>\n",
       "      <td>False</td>\n",
       "      <td>True</td>\n",
       "      <td>Servidor público</td>\n",
       "      <td>Superior completo</td>\n",
       "      <td>Casado</td>\n",
       "      <td>Casa</td>\n",
       "    </tr>\n",
       "    <tr>\n",
       "      <th>4</th>\n",
       "      <td>2015-01-01</td>\n",
       "      <td>M</td>\n",
       "      <td>True</td>\n",
       "      <td>False</td>\n",
       "      <td>Assalariado</td>\n",
       "      <td>Secundário</td>\n",
       "      <td>Solteiro</td>\n",
       "      <td>Governamental</td>\n",
       "    </tr>\n",
       "    <tr>\n",
       "      <th>...</th>\n",
       "      <td>...</td>\n",
       "      <td>...</td>\n",
       "      <td>...</td>\n",
       "      <td>...</td>\n",
       "      <td>...</td>\n",
       "      <td>...</td>\n",
       "      <td>...</td>\n",
       "      <td>...</td>\n",
       "    </tr>\n",
       "    <tr>\n",
       "      <th>14995</th>\n",
       "      <td>2016-03-01</td>\n",
       "      <td>F</td>\n",
       "      <td>False</td>\n",
       "      <td>True</td>\n",
       "      <td>Empresário</td>\n",
       "      <td>Secundário</td>\n",
       "      <td>Solteiro</td>\n",
       "      <td>Casa</td>\n",
       "    </tr>\n",
       "    <tr>\n",
       "      <th>14996</th>\n",
       "      <td>2016-03-01</td>\n",
       "      <td>F</td>\n",
       "      <td>False</td>\n",
       "      <td>True</td>\n",
       "      <td>Pensionista</td>\n",
       "      <td>Superior completo</td>\n",
       "      <td>Solteiro</td>\n",
       "      <td>Casa</td>\n",
       "    </tr>\n",
       "    <tr>\n",
       "      <th>14997</th>\n",
       "      <td>2016-03-01</td>\n",
       "      <td>F</td>\n",
       "      <td>True</td>\n",
       "      <td>True</td>\n",
       "      <td>Assalariado</td>\n",
       "      <td>Superior completo</td>\n",
       "      <td>Casado</td>\n",
       "      <td>Casa</td>\n",
       "    </tr>\n",
       "    <tr>\n",
       "      <th>14998</th>\n",
       "      <td>2016-03-01</td>\n",
       "      <td>M</td>\n",
       "      <td>True</td>\n",
       "      <td>False</td>\n",
       "      <td>Empresário</td>\n",
       "      <td>Superior completo</td>\n",
       "      <td>Casado</td>\n",
       "      <td>Casa</td>\n",
       "    </tr>\n",
       "    <tr>\n",
       "      <th>14999</th>\n",
       "      <td>2016-03-01</td>\n",
       "      <td>F</td>\n",
       "      <td>False</td>\n",
       "      <td>True</td>\n",
       "      <td>Servidor público</td>\n",
       "      <td>Secundário</td>\n",
       "      <td>União</td>\n",
       "      <td>Casa</td>\n",
       "    </tr>\n",
       "  </tbody>\n",
       "</table>\n",
       "<p>15000 rows × 8 columns</p>\n",
       "</div>"
      ],
      "text/plain": [
       "         data_ref sexo  posse_de_veiculo  posse_de_imovel        tipo_renda  \\\n",
       "0      2015-01-01    F             False             True        Empresário   \n",
       "1      2015-01-01    M              True             True       Assalariado   \n",
       "2      2015-01-01    F              True             True        Empresário   \n",
       "3      2015-01-01    F             False             True  Servidor público   \n",
       "4      2015-01-01    M              True            False       Assalariado   \n",
       "...           ...  ...               ...              ...               ...   \n",
       "14995  2016-03-01    F             False             True        Empresário   \n",
       "14996  2016-03-01    F             False             True       Pensionista   \n",
       "14997  2016-03-01    F              True             True       Assalariado   \n",
       "14998  2016-03-01    M              True            False        Empresário   \n",
       "14999  2016-03-01    F             False             True  Servidor público   \n",
       "\n",
       "                educacao estado_civil tipo_residencia  \n",
       "0             Secundário     Solteiro            Casa  \n",
       "1      Superior completo       Casado            Casa  \n",
       "2      Superior completo       Casado            Casa  \n",
       "3      Superior completo       Casado            Casa  \n",
       "4             Secundário     Solteiro   Governamental  \n",
       "...                  ...          ...             ...  \n",
       "14995         Secundário     Solteiro            Casa  \n",
       "14996  Superior completo     Solteiro            Casa  \n",
       "14997  Superior completo       Casado            Casa  \n",
       "14998  Superior completo       Casado            Casa  \n",
       "14999         Secundário        União            Casa  \n",
       "\n",
       "[15000 rows x 8 columns]"
      ]
     },
     "execution_count": 4,
     "metadata": {},
     "output_type": "execute_result"
    }
   ],
   "source": [
    "df.select_dtypes(include=['object', 'bool'])"
   ]
  },
  {
   "cell_type": "markdown",
   "metadata": {},
   "source": [
    "#### Verificando a moda das variáveis qualitativas"
   ]
  },
  {
   "cell_type": "code",
   "execution_count": 5,
   "metadata": {},
   "outputs": [
    {
     "data": {
      "text/html": [
       "<div>\n",
       "<style scoped>\n",
       "    .dataframe tbody tr th:only-of-type {\n",
       "        vertical-align: middle;\n",
       "    }\n",
       "\n",
       "    .dataframe tbody tr th {\n",
       "        vertical-align: top;\n",
       "    }\n",
       "\n",
       "    .dataframe thead th {\n",
       "        text-align: right;\n",
       "    }\n",
       "</style>\n",
       "<table border=\"1\" class=\"dataframe\">\n",
       "  <thead>\n",
       "    <tr style=\"text-align: right;\">\n",
       "      <th></th>\n",
       "      <th>Variáveis</th>\n",
       "      <th>Frequencia</th>\n",
       "    </tr>\n",
       "  </thead>\n",
       "  <tbody>\n",
       "    <tr>\n",
       "      <th>0</th>\n",
       "      <td>sexo</td>\n",
       "      <td>F</td>\n",
       "    </tr>\n",
       "    <tr>\n",
       "      <th>1</th>\n",
       "      <td>posse_de_veiculo</td>\n",
       "      <td>False</td>\n",
       "    </tr>\n",
       "    <tr>\n",
       "      <th>2</th>\n",
       "      <td>posse_de_imovel</td>\n",
       "      <td>True</td>\n",
       "    </tr>\n",
       "    <tr>\n",
       "      <th>3</th>\n",
       "      <td>tipo_renda</td>\n",
       "      <td>Assalariado</td>\n",
       "    </tr>\n",
       "    <tr>\n",
       "      <th>4</th>\n",
       "      <td>educacao</td>\n",
       "      <td>Secundário</td>\n",
       "    </tr>\n",
       "    <tr>\n",
       "      <th>5</th>\n",
       "      <td>estado_civil</td>\n",
       "      <td>Casado</td>\n",
       "    </tr>\n",
       "    <tr>\n",
       "      <th>6</th>\n",
       "      <td>tipo_residencia</td>\n",
       "      <td>Casa</td>\n",
       "    </tr>\n",
       "  </tbody>\n",
       "</table>\n",
       "</div>"
      ],
      "text/plain": [
       "          Variáveis   Frequencia\n",
       "0              sexo            F\n",
       "1  posse_de_veiculo        False\n",
       "2   posse_de_imovel         True\n",
       "3        tipo_renda  Assalariado\n",
       "4          educacao   Secundário\n",
       "5      estado_civil       Casado\n",
       "6   tipo_residencia         Casa"
      ]
     },
     "execution_count": 5,
     "metadata": {},
     "output_type": "execute_result"
    }
   ],
   "source": [
    "df_moda = {'Variáveis': ['sexo', 'posse_de_veiculo', 'posse_de_imovel', 'tipo_renda', 'educacao','estado_civil', 'tipo_residencia'],\n",
    "           'Frequencia': [df.sexo.mode()[0], df.posse_de_veiculo.mode()[0], df.posse_de_imovel.mode()[0], df.tipo_renda.mode()[0], df.educacao.mode()[0],df. estado_civil.mode()[0], df.tipo_residencia.mode()[0]]\n",
    "          }\n",
    "df_moda= pd.DataFrame(df_moda)\n",
    "df_moda"
   ]
  },
  {
   "cell_type": "markdown",
   "metadata": {},
   "source": [
    "#### Criando a Design Matrix com o Patsy, mantendo a categoria mais frequente das variáveis qualitativas como casela de referência"
   ]
  },
  {
   "cell_type": "code",
   "execution_count": 6,
   "metadata": {},
   "outputs": [
    {
     "data": {
      "text/plain": [
       "DesignMatrix with shape (15000, 21)\n",
       "  Columns:\n",
       "    ['Intercept',\n",
       "     'C(sexo, Treatment(0))[T.M]',\n",
       "     'C(posse_de_veiculo, Treatment(0))[T.True]',\n",
       "     'C(posse_de_imovel, Treatment(1))[T.False]',\n",
       "     'C(tipo_renda, Treatment(0))[T.Bolsista]',\n",
       "     'C(tipo_renda, Treatment(0))[T.Empresário]',\n",
       "     'C(tipo_renda, Treatment(0))[T.Pensionista]',\n",
       "     'C(tipo_renda, Treatment(0))[T.Servidor público]',\n",
       "     'C(educacao, Treatment(2))[T.Primário]',\n",
       "     'C(educacao, Treatment(2))[T.Pós graduação]',\n",
       "     'C(educacao, Treatment(2))[T.Superior completo]',\n",
       "     'C(educacao, Treatment(2))[T.Superior incompleto]',\n",
       "     'C(estado_civil, Treatment(0))[T.Separado]',\n",
       "     'C(estado_civil, Treatment(0))[T.Solteiro]',\n",
       "     'C(estado_civil, Treatment(0))[T.União]',\n",
       "     'C(estado_civil, Treatment(0))[T.Viúvo]',\n",
       "     'C(tipo_residencia, Treatment(1))[T.Aluguel]',\n",
       "     'C(tipo_residencia, Treatment(1))[T.Com os pais]',\n",
       "     'C(tipo_residencia, Treatment(1))[T.Comunitário]',\n",
       "     'C(tipo_residencia, Treatment(1))[T.Estúdio]',\n",
       "     'C(tipo_residencia, Treatment(1))[T.Governamental]']\n",
       "  Terms:\n",
       "    'Intercept' (column 0)\n",
       "    'C(sexo, Treatment(0))' (column 1)\n",
       "    'C(posse_de_veiculo, Treatment(0))' (column 2)\n",
       "    'C(posse_de_imovel, Treatment(1))' (column 3)\n",
       "    'C(tipo_renda, Treatment(0))' (columns 4:8)\n",
       "    'C(educacao, Treatment(2))' (columns 8:12)\n",
       "    'C(estado_civil, Treatment(0))' (columns 12:16)\n",
       "    'C(tipo_residencia, Treatment(1))' (columns 16:21)\n",
       "  (to view full data, use np.asarray(this_obj))"
      ]
     },
     "execution_count": 6,
     "metadata": {},
     "output_type": "execute_result"
    }
   ],
   "source": [
    "y, x = patsy.dmatrices('np.log(renda) ~ C(sexo,Treatment(0)) + C(posse_de_veiculo, Treatment(0)) +  C(posse_de_imovel, Treatment(1)) + C(tipo_renda, Treatment(0)) + C(educacao, Treatment(2)) + C(estado_civil, Treatment(0)) + C(tipo_residencia, Treatment(1))', data = df)\n",
    "x"
   ]
  },
  {
   "cell_type": "markdown",
   "metadata": {},
   "source": [
    "#### Rodando o modelo e avaliando os parâmetros"
   ]
  },
  {
   "cell_type": "code",
   "execution_count": 7,
   "metadata": {},
   "outputs": [
    {
     "data": {
      "text/html": [
       "<table class=\"simpletable\">\n",
       "<caption>OLS Regression Results</caption>\n",
       "<tr>\n",
       "  <th>Dep. Variable:</th>      <td>np.log(renda)</td>  <th>  R-squared:         </th> <td>   0.162</td> \n",
       "</tr>\n",
       "<tr>\n",
       "  <th>Model:</th>                   <td>OLS</td>       <th>  Adj. R-squared:    </th> <td>   0.161</td> \n",
       "</tr>\n",
       "<tr>\n",
       "  <th>Method:</th>             <td>Least Squares</td>  <th>  F-statistic:       </th> <td>   144.7</td> \n",
       "</tr>\n",
       "<tr>\n",
       "  <th>Date:</th>             <td>Tue, 19 Dec 2023</td> <th>  Prob (F-statistic):</th>  <td>  0.00</td>  \n",
       "</tr>\n",
       "<tr>\n",
       "  <th>Time:</th>                 <td>11:46:16</td>     <th>  Log-Likelihood:    </th> <td> -18100.</td> \n",
       "</tr>\n",
       "<tr>\n",
       "  <th>No. Observations:</th>      <td> 15000</td>      <th>  AIC:               </th> <td>3.624e+04</td>\n",
       "</tr>\n",
       "<tr>\n",
       "  <th>Df Residuals:</th>          <td> 14979</td>      <th>  BIC:               </th> <td>3.640e+04</td>\n",
       "</tr>\n",
       "<tr>\n",
       "  <th>Df Model:</th>              <td>    20</td>      <th>                     </th>     <td> </td>    \n",
       "</tr>\n",
       "<tr>\n",
       "  <th>Covariance Type:</th>      <td>nonrobust</td>    <th>                     </th>     <td> </td>    \n",
       "</tr>\n",
       "</table>\n",
       "<table class=\"simpletable\">\n",
       "<tr>\n",
       "                          <td></td>                             <th>coef</th>     <th>std err</th>      <th>t</th>      <th>P>|t|</th>  <th>[0.025</th>    <th>0.975]</th>  \n",
       "</tr>\n",
       "<tr>\n",
       "  <th>Intercept</th>                                         <td>    7.9814</td> <td>    0.015</td> <td>  549.761</td> <td> 0.000</td> <td>    7.953</td> <td>    8.010</td>\n",
       "</tr>\n",
       "<tr>\n",
       "  <th>C(sexo, Treatment(0))[T.M]</th>                        <td>    0.6971</td> <td>    0.015</td> <td>   45.019</td> <td> 0.000</td> <td>    0.667</td> <td>    0.727</td>\n",
       "</tr>\n",
       "<tr>\n",
       "  <th>C(posse_de_veiculo, Treatment(0))[T.True]</th>         <td>    0.0103</td> <td>    0.015</td> <td>    0.696</td> <td> 0.486</td> <td>   -0.019</td> <td>    0.039</td>\n",
       "</tr>\n",
       "<tr>\n",
       "  <th>C(posse_de_imovel, Treatment(1))[T.False]</th>         <td>   -0.0941</td> <td>    0.015</td> <td>   -6.477</td> <td> 0.000</td> <td>   -0.123</td> <td>   -0.066</td>\n",
       "</tr>\n",
       "<tr>\n",
       "  <th>C(tipo_renda, Treatment(0))[T.Bolsista]</th>           <td>    0.3770</td> <td>    0.270</td> <td>    1.395</td> <td> 0.163</td> <td>   -0.153</td> <td>    0.907</td>\n",
       "</tr>\n",
       "<tr>\n",
       "  <th>C(tipo_renda, Treatment(0))[T.Empresário]</th>         <td>    0.0680</td> <td>    0.017</td> <td>    4.088</td> <td> 0.000</td> <td>    0.035</td> <td>    0.101</td>\n",
       "</tr>\n",
       "<tr>\n",
       "  <th>C(tipo_renda, Treatment(0))[T.Pensionista]</th>        <td>   -0.1604</td> <td>    0.019</td> <td>   -8.278</td> <td> 0.000</td> <td>   -0.198</td> <td>   -0.122</td>\n",
       "</tr>\n",
       "<tr>\n",
       "  <th>C(tipo_renda, Treatment(0))[T.Servidor público]</th>   <td>    0.2189</td> <td>    0.025</td> <td>    8.853</td> <td> 0.000</td> <td>    0.170</td> <td>    0.267</td>\n",
       "</tr>\n",
       "<tr>\n",
       "  <th>C(educacao, Treatment(2))[T.Primário]</th>             <td>    0.0178</td> <td>    0.064</td> <td>    0.278</td> <td> 0.781</td> <td>   -0.107</td> <td>    0.143</td>\n",
       "</tr>\n",
       "<tr>\n",
       "  <th>C(educacao, Treatment(2))[T.Pós graduação]</th>        <td>   -0.1013</td> <td>    0.159</td> <td>   -0.636</td> <td> 0.525</td> <td>   -0.413</td> <td>    0.211</td>\n",
       "</tr>\n",
       "<tr>\n",
       "  <th>C(educacao, Treatment(2))[T.Superior completo]</th>    <td>    0.0954</td> <td>    0.014</td> <td>    6.670</td> <td> 0.000</td> <td>    0.067</td> <td>    0.123</td>\n",
       "</tr>\n",
       "<tr>\n",
       "  <th>C(educacao, Treatment(2))[T.Superior incompleto]</th>  <td>   -0.1178</td> <td>    0.035</td> <td>   -3.364</td> <td> 0.001</td> <td>   -0.186</td> <td>   -0.049</td>\n",
       "</tr>\n",
       "<tr>\n",
       "  <th>C(estado_civil, Treatment(0))[T.Separado]</th>         <td>    0.0513</td> <td>    0.029</td> <td>    1.788</td> <td> 0.074</td> <td>   -0.005</td> <td>    0.107</td>\n",
       "</tr>\n",
       "<tr>\n",
       "  <th>C(estado_civil, Treatment(0))[T.Solteiro]</th>         <td>   -0.0378</td> <td>    0.021</td> <td>   -1.812</td> <td> 0.070</td> <td>   -0.079</td> <td>    0.003</td>\n",
       "</tr>\n",
       "<tr>\n",
       "  <th>C(estado_civil, Treatment(0))[T.União]</th>            <td>   -0.0641</td> <td>    0.026</td> <td>   -2.465</td> <td> 0.014</td> <td>   -0.115</td> <td>   -0.013</td>\n",
       "</tr>\n",
       "<tr>\n",
       "  <th>C(estado_civil, Treatment(0))[T.Viúvo]</th>            <td>    0.0438</td> <td>    0.032</td> <td>    1.348</td> <td> 0.178</td> <td>   -0.020</td> <td>    0.107</td>\n",
       "</tr>\n",
       "<tr>\n",
       "  <th>C(tipo_residencia, Treatment(1))[T.Aluguel]</th>       <td>   -0.1129</td> <td>    0.059</td> <td>   -1.919</td> <td> 0.055</td> <td>   -0.228</td> <td>    0.002</td>\n",
       "</tr>\n",
       "<tr>\n",
       "  <th>C(tipo_residencia, Treatment(1))[T.Com os pais]</th>   <td>   -0.1306</td> <td>    0.033</td> <td>   -4.009</td> <td> 0.000</td> <td>   -0.194</td> <td>   -0.067</td>\n",
       "</tr>\n",
       "<tr>\n",
       "  <th>C(tipo_residencia, Treatment(1))[T.Comunitário]</th>   <td>   -0.2398</td> <td>    0.102</td> <td>   -2.355</td> <td> 0.019</td> <td>   -0.439</td> <td>   -0.040</td>\n",
       "</tr>\n",
       "<tr>\n",
       "  <th>C(tipo_residencia, Treatment(1))[T.Estúdio]</th>       <td>    0.1924</td> <td>    0.089</td> <td>    2.153</td> <td> 0.031</td> <td>    0.017</td> <td>    0.368</td>\n",
       "</tr>\n",
       "<tr>\n",
       "  <th>C(tipo_residencia, Treatment(1))[T.Governamental]</th> <td>    0.0460</td> <td>    0.039</td> <td>    1.177</td> <td> 0.239</td> <td>   -0.031</td> <td>    0.123</td>\n",
       "</tr>\n",
       "</table>\n",
       "<table class=\"simpletable\">\n",
       "<tr>\n",
       "  <th>Omnibus:</th>       <td>151.788</td> <th>  Durbin-Watson:     </th> <td>   2.024</td>\n",
       "</tr>\n",
       "<tr>\n",
       "  <th>Prob(Omnibus):</th> <td> 0.000</td>  <th>  Jarque-Bera (JB):  </th> <td> 173.551</td>\n",
       "</tr>\n",
       "<tr>\n",
       "  <th>Skew:</th>          <td> 0.197</td>  <th>  Prob(JB):          </th> <td>2.06e-38</td>\n",
       "</tr>\n",
       "<tr>\n",
       "  <th>Kurtosis:</th>      <td> 3.349</td>  <th>  Cond. No.          </th> <td>    53.5</td>\n",
       "</tr>\n",
       "</table><br/><br/>Notes:<br/>[1] Standard Errors assume that the covariance matrix of the errors is correctly specified."
      ],
      "text/plain": [
       "<class 'statsmodels.iolib.summary.Summary'>\n",
       "\"\"\"\n",
       "                            OLS Regression Results                            \n",
       "==============================================================================\n",
       "Dep. Variable:          np.log(renda)   R-squared:                       0.162\n",
       "Model:                            OLS   Adj. R-squared:                  0.161\n",
       "Method:                 Least Squares   F-statistic:                     144.7\n",
       "Date:                Tue, 19 Dec 2023   Prob (F-statistic):               0.00\n",
       "Time:                        11:46:16   Log-Likelihood:                -18100.\n",
       "No. Observations:               15000   AIC:                         3.624e+04\n",
       "Df Residuals:                   14979   BIC:                         3.640e+04\n",
       "Df Model:                          20                                         \n",
       "Covariance Type:            nonrobust                                         \n",
       "=====================================================================================================================\n",
       "                                                        coef    std err          t      P>|t|      [0.025      0.975]\n",
       "---------------------------------------------------------------------------------------------------------------------\n",
       "Intercept                                             7.9814      0.015    549.761      0.000       7.953       8.010\n",
       "C(sexo, Treatment(0))[T.M]                            0.6971      0.015     45.019      0.000       0.667       0.727\n",
       "C(posse_de_veiculo, Treatment(0))[T.True]             0.0103      0.015      0.696      0.486      -0.019       0.039\n",
       "C(posse_de_imovel, Treatment(1))[T.False]            -0.0941      0.015     -6.477      0.000      -0.123      -0.066\n",
       "C(tipo_renda, Treatment(0))[T.Bolsista]               0.3770      0.270      1.395      0.163      -0.153       0.907\n",
       "C(tipo_renda, Treatment(0))[T.Empresário]             0.0680      0.017      4.088      0.000       0.035       0.101\n",
       "C(tipo_renda, Treatment(0))[T.Pensionista]           -0.1604      0.019     -8.278      0.000      -0.198      -0.122\n",
       "C(tipo_renda, Treatment(0))[T.Servidor público]       0.2189      0.025      8.853      0.000       0.170       0.267\n",
       "C(educacao, Treatment(2))[T.Primário]                 0.0178      0.064      0.278      0.781      -0.107       0.143\n",
       "C(educacao, Treatment(2))[T.Pós graduação]           -0.1013      0.159     -0.636      0.525      -0.413       0.211\n",
       "C(educacao, Treatment(2))[T.Superior completo]        0.0954      0.014      6.670      0.000       0.067       0.123\n",
       "C(educacao, Treatment(2))[T.Superior incompleto]     -0.1178      0.035     -3.364      0.001      -0.186      -0.049\n",
       "C(estado_civil, Treatment(0))[T.Separado]             0.0513      0.029      1.788      0.074      -0.005       0.107\n",
       "C(estado_civil, Treatment(0))[T.Solteiro]            -0.0378      0.021     -1.812      0.070      -0.079       0.003\n",
       "C(estado_civil, Treatment(0))[T.União]               -0.0641      0.026     -2.465      0.014      -0.115      -0.013\n",
       "C(estado_civil, Treatment(0))[T.Viúvo]                0.0438      0.032      1.348      0.178      -0.020       0.107\n",
       "C(tipo_residencia, Treatment(1))[T.Aluguel]          -0.1129      0.059     -1.919      0.055      -0.228       0.002\n",
       "C(tipo_residencia, Treatment(1))[T.Com os pais]      -0.1306      0.033     -4.009      0.000      -0.194      -0.067\n",
       "C(tipo_residencia, Treatment(1))[T.Comunitário]      -0.2398      0.102     -2.355      0.019      -0.439      -0.040\n",
       "C(tipo_residencia, Treatment(1))[T.Estúdio]           0.1924      0.089      2.153      0.031       0.017       0.368\n",
       "C(tipo_residencia, Treatment(1))[T.Governamental]     0.0460      0.039      1.177      0.239      -0.031       0.123\n",
       "==============================================================================\n",
       "Omnibus:                      151.788   Durbin-Watson:                   2.024\n",
       "Prob(Omnibus):                  0.000   Jarque-Bera (JB):              173.551\n",
       "Skew:                           0.197   Prob(JB):                     2.06e-38\n",
       "Kurtosis:                       3.349   Cond. No.                         53.5\n",
       "==============================================================================\n",
       "\n",
       "Notes:\n",
       "[1] Standard Errors assume that the covariance matrix of the errors is correctly specified.\n",
       "\"\"\""
      ]
     },
     "execution_count": 7,
     "metadata": {},
     "output_type": "execute_result"
    }
   ],
   "source": [
    "reg = sm.OLS(y, x).fit()\n",
    "reg.summary()"
   ]
  },
  {
   "cell_type": "code",
   "execution_count": 8,
   "metadata": {},
   "outputs": [
    {
     "data": {
      "text/plain": [
       "0.16193446943715917"
      ]
     },
     "execution_count": 8,
     "metadata": {},
     "output_type": "execute_result"
    }
   ],
   "source": [
    "R2_inicial = reg.rsquared\n",
    "R2_inicial"
   ]
  },
  {
   "cell_type": "code",
   "execution_count": 9,
   "metadata": {},
   "outputs": [
    {
     "data": {
      "text/plain": [
       "0.1608154821475366"
      ]
     },
     "execution_count": 9,
     "metadata": {},
     "output_type": "execute_result"
    }
   ],
   "source": [
    "R2_ajust_inicial = reg.rsquared_adj\n",
    "R2_ajust_inicial "
   ]
  },
  {
   "cell_type": "code",
   "execution_count": 10,
   "metadata": {},
   "outputs": [
    {
     "data": {
      "text/plain": [
       "36241.337462396375"
      ]
     },
     "execution_count": 10,
     "metadata": {},
     "output_type": "execute_result"
    }
   ],
   "source": [
    "AIC_inicial =reg.aic\n",
    "AIC_inicial"
   ]
  },
  {
   "cell_type": "markdown",
   "metadata": {},
   "source": [
    "## Removendo a variável menos significante"
   ]
  },
  {
   "cell_type": "markdown",
   "metadata": {},
   "source": [
    "#### Removendo a variável menos significante - C(educacao, Treatment(2))[T.Primário]"
   ]
  },
  {
   "cell_type": "markdown",
   "metadata": {},
   "source": [
    "Vamos criar uma nova variável 'educacao2' e unificar as classificações Primário e Secundário e aproveitar também vamos unificar Superior Completo e Pós graduação\n"
   ]
  },
  {
   "cell_type": "code",
   "execution_count": 11,
   "metadata": {},
   "outputs": [
    {
     "data": {
      "text/plain": [
       "array(['Secundário', 'Superior completo', 'Superior incompleto',\n",
       "       'Primário', 'Pós graduação'], dtype=object)"
      ]
     },
     "execution_count": 11,
     "metadata": {},
     "output_type": "execute_result"
    }
   ],
   "source": [
    "df['educacao'].unique()"
   ]
  },
  {
   "cell_type": "code",
   "execution_count": 12,
   "metadata": {},
   "outputs": [
    {
     "data": {
      "text/html": [
       "<div>\n",
       "<style scoped>\n",
       "    .dataframe tbody tr th:only-of-type {\n",
       "        vertical-align: middle;\n",
       "    }\n",
       "\n",
       "    .dataframe tbody tr th {\n",
       "        vertical-align: top;\n",
       "    }\n",
       "\n",
       "    .dataframe thead th {\n",
       "        text-align: right;\n",
       "    }\n",
       "</style>\n",
       "<table border=\"1\" class=\"dataframe\">\n",
       "  <thead>\n",
       "    <tr style=\"text-align: right;\">\n",
       "      <th></th>\n",
       "      <th>educacao</th>\n",
       "      <th>educacao2</th>\n",
       "    </tr>\n",
       "  </thead>\n",
       "  <tbody>\n",
       "    <tr>\n",
       "      <th>0</th>\n",
       "      <td>Secundário</td>\n",
       "      <td>Primário/Secundário</td>\n",
       "    </tr>\n",
       "    <tr>\n",
       "      <th>1</th>\n",
       "      <td>Superior completo</td>\n",
       "      <td>Superior completo/Pós graduação</td>\n",
       "    </tr>\n",
       "    <tr>\n",
       "      <th>2</th>\n",
       "      <td>Superior completo</td>\n",
       "      <td>Superior completo/Pós graduação</td>\n",
       "    </tr>\n",
       "    <tr>\n",
       "      <th>3</th>\n",
       "      <td>Superior completo</td>\n",
       "      <td>Superior completo/Pós graduação</td>\n",
       "    </tr>\n",
       "    <tr>\n",
       "      <th>4</th>\n",
       "      <td>Secundário</td>\n",
       "      <td>Primário/Secundário</td>\n",
       "    </tr>\n",
       "  </tbody>\n",
       "</table>\n",
       "</div>"
      ],
      "text/plain": [
       "            educacao                        educacao2\n",
       "0         Secundário              Primário/Secundário\n",
       "1  Superior completo  Superior completo/Pós graduação\n",
       "2  Superior completo  Superior completo/Pós graduação\n",
       "3  Superior completo  Superior completo/Pós graduação\n",
       "4         Secundário              Primário/Secundário"
      ]
     },
     "execution_count": 12,
     "metadata": {},
     "output_type": "execute_result"
    }
   ],
   "source": [
    "df.loc[ df['educacao'] == 'Primário', 'educacao2'] ='Primário/Secundário'\n",
    "df.loc[ df['educacao'] == 'Secundário', 'educacao2'] = 'Primário/Secundário'\n",
    "df.loc[ df['educacao'] == 'Superior completo', 'educacao2'] = 'Superior completo/Pós graduação'\n",
    "df.loc[ df['educacao'] == 'Superior incompleto', 'educacao2'] = 'Superior incompleto'\n",
    "df.loc[ df['educacao'] == 'Pós graduação', 'educacao2'] = 'Superior completo/Pós graduação'\n",
    "\n",
    "df[['educacao','educacao2']].head()"
   ]
  },
  {
   "cell_type": "code",
   "execution_count": 13,
   "metadata": {},
   "outputs": [
    {
     "data": {
      "text/plain": [
       "array(['Primário/Secundário', 'Superior completo/Pós graduação',\n",
       "       'Superior incompleto'], dtype=object)"
      ]
     },
     "execution_count": 13,
     "metadata": {},
     "output_type": "execute_result"
    }
   ],
   "source": [
    "df['educacao2'].unique()"
   ]
  },
  {
   "cell_type": "markdown",
   "metadata": {},
   "source": [
    "#### Criando a Design Matrix com o Patsy,usando 'educacao2' no lugar de 'educacao1'"
   ]
  },
  {
   "cell_type": "code",
   "execution_count": 14,
   "metadata": {},
   "outputs": [
    {
     "data": {
      "text/plain": [
       "DesignMatrix with shape (15000, 19)\n",
       "  Columns:\n",
       "    ['Intercept',\n",
       "     'C(sexo, Treatment(0))[T.M]',\n",
       "     'C(posse_de_veiculo, Treatment(0))[T.True]',\n",
       "     'C(posse_de_imovel, Treatment(1))[T.False]',\n",
       "     'C(tipo_renda, Treatment(0))[T.Bolsista]',\n",
       "     'C(tipo_renda, Treatment(0))[T.Empresário]',\n",
       "     'C(tipo_renda, Treatment(0))[T.Pensionista]',\n",
       "     'C(tipo_renda, Treatment(0))[T.Servidor público]',\n",
       "     'C(educacao2, Treatment(2))[T.Primário/Secundário]',\n",
       "     'C(educacao2, Treatment(2))[T.Superior completo/Pós graduação]',\n",
       "     'C(estado_civil, Treatment(0))[T.Separado]',\n",
       "     'C(estado_civil, Treatment(0))[T.Solteiro]',\n",
       "     'C(estado_civil, Treatment(0))[T.União]',\n",
       "     'C(estado_civil, Treatment(0))[T.Viúvo]',\n",
       "     'C(tipo_residencia, Treatment(1))[T.Aluguel]',\n",
       "     'C(tipo_residencia, Treatment(1))[T.Com os pais]',\n",
       "     'C(tipo_residencia, Treatment(1))[T.Comunitário]',\n",
       "     'C(tipo_residencia, Treatment(1))[T.Estúdio]',\n",
       "     'C(tipo_residencia, Treatment(1))[T.Governamental]']\n",
       "  Terms:\n",
       "    'Intercept' (column 0)\n",
       "    'C(sexo, Treatment(0))' (column 1)\n",
       "    'C(posse_de_veiculo, Treatment(0))' (column 2)\n",
       "    'C(posse_de_imovel, Treatment(1))' (column 3)\n",
       "    'C(tipo_renda, Treatment(0))' (columns 4:8)\n",
       "    'C(educacao2, Treatment(2))' (columns 8:10)\n",
       "    'C(estado_civil, Treatment(0))' (columns 10:14)\n",
       "    'C(tipo_residencia, Treatment(1))' (columns 14:19)\n",
       "  (to view full data, use np.asarray(this_obj))"
      ]
     },
     "execution_count": 14,
     "metadata": {},
     "output_type": "execute_result"
    }
   ],
   "source": [
    "y, x = patsy.dmatrices('np.log(renda) ~ C(sexo,Treatment(0)) + C(posse_de_veiculo, Treatment(0)) +  C(posse_de_imovel, Treatment(1)) + C(tipo_renda, Treatment(0)) + C(educacao2, Treatment(2)) + C(estado_civil, Treatment(0)) + C(tipo_residencia, Treatment(1))', data = df)\n",
    "x"
   ]
  },
  {
   "cell_type": "markdown",
   "metadata": {},
   "source": [
    "#### Rodando o modelo e avaliando os parâmetros"
   ]
  },
  {
   "cell_type": "code",
   "execution_count": 15,
   "metadata": {},
   "outputs": [
    {
     "data": {
      "text/html": [
       "<table class=\"simpletable\">\n",
       "<caption>OLS Regression Results</caption>\n",
       "<tr>\n",
       "  <th>Dep. Variable:</th>      <td>np.log(renda)</td>  <th>  R-squared:         </th> <td>   0.162</td> \n",
       "</tr>\n",
       "<tr>\n",
       "  <th>Model:</th>                   <td>OLS</td>       <th>  Adj. R-squared:    </th> <td>   0.161</td> \n",
       "</tr>\n",
       "<tr>\n",
       "  <th>Method:</th>             <td>Least Squares</td>  <th>  F-statistic:       </th> <td>   160.7</td> \n",
       "</tr>\n",
       "<tr>\n",
       "  <th>Date:</th>             <td>Tue, 19 Dec 2023</td> <th>  Prob (F-statistic):</th>  <td>  0.00</td>  \n",
       "</tr>\n",
       "<tr>\n",
       "  <th>Time:</th>                 <td>11:55:16</td>     <th>  Log-Likelihood:    </th> <td> -18100.</td> \n",
       "</tr>\n",
       "<tr>\n",
       "  <th>No. Observations:</th>      <td> 15000</td>      <th>  AIC:               </th> <td>3.624e+04</td>\n",
       "</tr>\n",
       "<tr>\n",
       "  <th>Df Residuals:</th>          <td> 14981</td>      <th>  BIC:               </th> <td>3.638e+04</td>\n",
       "</tr>\n",
       "<tr>\n",
       "  <th>Df Model:</th>              <td>    18</td>      <th>                     </th>     <td> </td>    \n",
       "</tr>\n",
       "<tr>\n",
       "  <th>Covariance Type:</th>      <td>nonrobust</td>    <th>                     </th>     <td> </td>    \n",
       "</tr>\n",
       "</table>\n",
       "<table class=\"simpletable\">\n",
       "<tr>\n",
       "                                <td></td>                                   <th>coef</th>     <th>std err</th>      <th>t</th>      <th>P>|t|</th>  <th>[0.025</th>    <th>0.975]</th>  \n",
       "</tr>\n",
       "<tr>\n",
       "  <th>Intercept</th>                                                     <td>    7.8636</td> <td>    0.036</td> <td>  217.906</td> <td> 0.000</td> <td>    7.793</td> <td>    7.934</td>\n",
       "</tr>\n",
       "<tr>\n",
       "  <th>C(sexo, Treatment(0))[T.M]</th>                                    <td>    0.6974</td> <td>    0.015</td> <td>   45.045</td> <td> 0.000</td> <td>    0.667</td> <td>    0.728</td>\n",
       "</tr>\n",
       "<tr>\n",
       "  <th>C(posse_de_veiculo, Treatment(0))[T.True]</th>                     <td>    0.0099</td> <td>    0.015</td> <td>    0.671</td> <td> 0.503</td> <td>   -0.019</td> <td>    0.039</td>\n",
       "</tr>\n",
       "<tr>\n",
       "  <th>C(posse_de_imovel, Treatment(1))[T.False]</th>                     <td>   -0.0937</td> <td>    0.015</td> <td>   -6.453</td> <td> 0.000</td> <td>   -0.122</td> <td>   -0.065</td>\n",
       "</tr>\n",
       "<tr>\n",
       "  <th>C(tipo_renda, Treatment(0))[T.Bolsista]</th>                       <td>    0.3780</td> <td>    0.270</td> <td>    1.399</td> <td> 0.162</td> <td>   -0.152</td> <td>    0.908</td>\n",
       "</tr>\n",
       "<tr>\n",
       "  <th>C(tipo_renda, Treatment(0))[T.Empresário]</th>                     <td>    0.0676</td> <td>    0.017</td> <td>    4.064</td> <td> 0.000</td> <td>    0.035</td> <td>    0.100</td>\n",
       "</tr>\n",
       "<tr>\n",
       "  <th>C(tipo_renda, Treatment(0))[T.Pensionista]</th>                    <td>   -0.1599</td> <td>    0.019</td> <td>   -8.259</td> <td> 0.000</td> <td>   -0.198</td> <td>   -0.122</td>\n",
       "</tr>\n",
       "<tr>\n",
       "  <th>C(tipo_renda, Treatment(0))[T.Servidor público]</th>               <td>    0.2193</td> <td>    0.025</td> <td>    8.871</td> <td> 0.000</td> <td>    0.171</td> <td>    0.268</td>\n",
       "</tr>\n",
       "<tr>\n",
       "  <th>C(educacao2, Treatment(2))[T.Primário/Secundário]</th>             <td>    0.1180</td> <td>    0.035</td> <td>    3.373</td> <td> 0.001</td> <td>    0.049</td> <td>    0.187</td>\n",
       "</tr>\n",
       "<tr>\n",
       "  <th>C(educacao2, Treatment(2))[T.Superior completo/Pós graduação]</th> <td>    0.2122</td> <td>    0.036</td> <td>    5.961</td> <td> 0.000</td> <td>    0.142</td> <td>    0.282</td>\n",
       "</tr>\n",
       "<tr>\n",
       "  <th>C(estado_civil, Treatment(0))[T.Separado]</th>                     <td>    0.0516</td> <td>    0.029</td> <td>    1.801</td> <td> 0.072</td> <td>   -0.005</td> <td>    0.108</td>\n",
       "</tr>\n",
       "<tr>\n",
       "  <th>C(estado_civil, Treatment(0))[T.Solteiro]</th>                     <td>   -0.0383</td> <td>    0.021</td> <td>   -1.833</td> <td> 0.067</td> <td>   -0.079</td> <td>    0.003</td>\n",
       "</tr>\n",
       "<tr>\n",
       "  <th>C(estado_civil, Treatment(0))[T.União]</th>                        <td>   -0.0637</td> <td>    0.026</td> <td>   -2.450</td> <td> 0.014</td> <td>   -0.115</td> <td>   -0.013</td>\n",
       "</tr>\n",
       "<tr>\n",
       "  <th>C(estado_civil, Treatment(0))[T.Viúvo]</th>                        <td>    0.0438</td> <td>    0.032</td> <td>    1.349</td> <td> 0.177</td> <td>   -0.020</td> <td>    0.107</td>\n",
       "</tr>\n",
       "<tr>\n",
       "  <th>C(tipo_residencia, Treatment(1))[T.Aluguel]</th>                   <td>   -0.1125</td> <td>    0.059</td> <td>   -1.912</td> <td> 0.056</td> <td>   -0.228</td> <td>    0.003</td>\n",
       "</tr>\n",
       "<tr>\n",
       "  <th>C(tipo_residencia, Treatment(1))[T.Com os pais]</th>               <td>   -0.1301</td> <td>    0.033</td> <td>   -3.995</td> <td> 0.000</td> <td>   -0.194</td> <td>   -0.066</td>\n",
       "</tr>\n",
       "<tr>\n",
       "  <th>C(tipo_residencia, Treatment(1))[T.Comunitário]</th>               <td>   -0.2374</td> <td>    0.102</td> <td>   -2.335</td> <td> 0.020</td> <td>   -0.437</td> <td>   -0.038</td>\n",
       "</tr>\n",
       "<tr>\n",
       "  <th>C(tipo_residencia, Treatment(1))[T.Estúdio]</th>                   <td>    0.1927</td> <td>    0.089</td> <td>    2.157</td> <td> 0.031</td> <td>    0.018</td> <td>    0.368</td>\n",
       "</tr>\n",
       "<tr>\n",
       "  <th>C(tipo_residencia, Treatment(1))[T.Governamental]</th>             <td>    0.0463</td> <td>    0.039</td> <td>    1.184</td> <td> 0.236</td> <td>   -0.030</td> <td>    0.123</td>\n",
       "</tr>\n",
       "</table>\n",
       "<table class=\"simpletable\">\n",
       "<tr>\n",
       "  <th>Omnibus:</th>       <td>152.027</td> <th>  Durbin-Watson:     </th> <td>   2.024</td>\n",
       "</tr>\n",
       "<tr>\n",
       "  <th>Prob(Omnibus):</th> <td> 0.000</td>  <th>  Jarque-Bera (JB):  </th> <td> 173.683</td>\n",
       "</tr>\n",
       "<tr>\n",
       "  <th>Skew:</th>          <td> 0.198</td>  <th>  Prob(JB):          </th> <td>1.93e-38</td>\n",
       "</tr>\n",
       "<tr>\n",
       "  <th>Kurtosis:</th>      <td> 3.349</td>  <th>  Cond. No.          </th> <td>    58.5</td>\n",
       "</tr>\n",
       "</table><br/><br/>Notes:<br/>[1] Standard Errors assume that the covariance matrix of the errors is correctly specified."
      ],
      "text/plain": [
       "<class 'statsmodels.iolib.summary.Summary'>\n",
       "\"\"\"\n",
       "                            OLS Regression Results                            \n",
       "==============================================================================\n",
       "Dep. Variable:          np.log(renda)   R-squared:                       0.162\n",
       "Model:                            OLS   Adj. R-squared:                  0.161\n",
       "Method:                 Least Squares   F-statistic:                     160.7\n",
       "Date:                Tue, 19 Dec 2023   Prob (F-statistic):               0.00\n",
       "Time:                        11:55:16   Log-Likelihood:                -18100.\n",
       "No. Observations:               15000   AIC:                         3.624e+04\n",
       "Df Residuals:                   14981   BIC:                         3.638e+04\n",
       "Df Model:                          18                                         \n",
       "Covariance Type:            nonrobust                                         \n",
       "=================================================================================================================================\n",
       "                                                                    coef    std err          t      P>|t|      [0.025      0.975]\n",
       "---------------------------------------------------------------------------------------------------------------------------------\n",
       "Intercept                                                         7.8636      0.036    217.906      0.000       7.793       7.934\n",
       "C(sexo, Treatment(0))[T.M]                                        0.6974      0.015     45.045      0.000       0.667       0.728\n",
       "C(posse_de_veiculo, Treatment(0))[T.True]                         0.0099      0.015      0.671      0.503      -0.019       0.039\n",
       "C(posse_de_imovel, Treatment(1))[T.False]                        -0.0937      0.015     -6.453      0.000      -0.122      -0.065\n",
       "C(tipo_renda, Treatment(0))[T.Bolsista]                           0.3780      0.270      1.399      0.162      -0.152       0.908\n",
       "C(tipo_renda, Treatment(0))[T.Empresário]                         0.0676      0.017      4.064      0.000       0.035       0.100\n",
       "C(tipo_renda, Treatment(0))[T.Pensionista]                       -0.1599      0.019     -8.259      0.000      -0.198      -0.122\n",
       "C(tipo_renda, Treatment(0))[T.Servidor público]                   0.2193      0.025      8.871      0.000       0.171       0.268\n",
       "C(educacao2, Treatment(2))[T.Primário/Secundário]                 0.1180      0.035      3.373      0.001       0.049       0.187\n",
       "C(educacao2, Treatment(2))[T.Superior completo/Pós graduação]     0.2122      0.036      5.961      0.000       0.142       0.282\n",
       "C(estado_civil, Treatment(0))[T.Separado]                         0.0516      0.029      1.801      0.072      -0.005       0.108\n",
       "C(estado_civil, Treatment(0))[T.Solteiro]                        -0.0383      0.021     -1.833      0.067      -0.079       0.003\n",
       "C(estado_civil, Treatment(0))[T.União]                           -0.0637      0.026     -2.450      0.014      -0.115      -0.013\n",
       "C(estado_civil, Treatment(0))[T.Viúvo]                            0.0438      0.032      1.349      0.177      -0.020       0.107\n",
       "C(tipo_residencia, Treatment(1))[T.Aluguel]                      -0.1125      0.059     -1.912      0.056      -0.228       0.003\n",
       "C(tipo_residencia, Treatment(1))[T.Com os pais]                  -0.1301      0.033     -3.995      0.000      -0.194      -0.066\n",
       "C(tipo_residencia, Treatment(1))[T.Comunitário]                  -0.2374      0.102     -2.335      0.020      -0.437      -0.038\n",
       "C(tipo_residencia, Treatment(1))[T.Estúdio]                       0.1927      0.089      2.157      0.031       0.018       0.368\n",
       "C(tipo_residencia, Treatment(1))[T.Governamental]                 0.0463      0.039      1.184      0.236      -0.030       0.123\n",
       "==============================================================================\n",
       "Omnibus:                      152.027   Durbin-Watson:                   2.024\n",
       "Prob(Omnibus):                  0.000   Jarque-Bera (JB):              173.683\n",
       "Skew:                           0.198   Prob(JB):                     1.93e-38\n",
       "Kurtosis:                       3.349   Cond. No.                         58.5\n",
       "==============================================================================\n",
       "\n",
       "Notes:\n",
       "[1] Standard Errors assume that the covariance matrix of the errors is correctly specified.\n",
       "\"\"\""
      ]
     },
     "execution_count": 15,
     "metadata": {},
     "output_type": "execute_result"
    }
   ],
   "source": [
    "sm.OLS(y, x).fit().summary()"
   ]
  },
  {
   "cell_type": "markdown",
   "metadata": {},
   "source": [
    "Não houve alteração no R² contudo os valores de p_value para as variáveis referentes a educação ficaram melhores."
   ]
  },
  {
   "cell_type": "markdown",
   "metadata": {},
   "source": [
    "## Removendo as demais variáveis"
   ]
  },
  {
   "cell_type": "markdown",
   "metadata": {},
   "source": [
    "Retiramos inicialmente a variável posse de veículo do modelo, estado civil"
   ]
  },
  {
   "cell_type": "markdown",
   "metadata": {},
   "source": [
    "#### Vamos criar uma nova variável 'tipo_residencia2' e unificar as classificações Casa/Governamental"
   ]
  },
  {
   "cell_type": "code",
   "execution_count": 16,
   "metadata": {},
   "outputs": [
    {
     "data": {
      "text/plain": [
       "array(['Casa', 'Governamental', 'Com os pais', 'Aluguel', 'Estúdio',\n",
       "       'Comunitário'], dtype=object)"
      ]
     },
     "execution_count": 16,
     "metadata": {},
     "output_type": "execute_result"
    }
   ],
   "source": [
    "df['tipo_residencia'].unique()"
   ]
  },
  {
   "cell_type": "code",
   "execution_count": 17,
   "metadata": {},
   "outputs": [
    {
     "data": {
      "text/html": [
       "<div>\n",
       "<style scoped>\n",
       "    .dataframe tbody tr th:only-of-type {\n",
       "        vertical-align: middle;\n",
       "    }\n",
       "\n",
       "    .dataframe tbody tr th {\n",
       "        vertical-align: top;\n",
       "    }\n",
       "\n",
       "    .dataframe thead th {\n",
       "        text-align: right;\n",
       "    }\n",
       "</style>\n",
       "<table border=\"1\" class=\"dataframe\">\n",
       "  <thead>\n",
       "    <tr style=\"text-align: right;\">\n",
       "      <th></th>\n",
       "      <th>tipo_residencia</th>\n",
       "      <th>tipo_residencia2</th>\n",
       "    </tr>\n",
       "  </thead>\n",
       "  <tbody>\n",
       "    <tr>\n",
       "      <th>0</th>\n",
       "      <td>Casa</td>\n",
       "      <td>Casa/Governamental</td>\n",
       "    </tr>\n",
       "    <tr>\n",
       "      <th>1</th>\n",
       "      <td>Casa</td>\n",
       "      <td>Casa/Governamental</td>\n",
       "    </tr>\n",
       "    <tr>\n",
       "      <th>2</th>\n",
       "      <td>Casa</td>\n",
       "      <td>Casa/Governamental</td>\n",
       "    </tr>\n",
       "    <tr>\n",
       "      <th>3</th>\n",
       "      <td>Casa</td>\n",
       "      <td>Casa/Governamental</td>\n",
       "    </tr>\n",
       "    <tr>\n",
       "      <th>4</th>\n",
       "      <td>Governamental</td>\n",
       "      <td>Casa/Governamental</td>\n",
       "    </tr>\n",
       "  </tbody>\n",
       "</table>\n",
       "</div>"
      ],
      "text/plain": [
       "  tipo_residencia    tipo_residencia2\n",
       "0            Casa  Casa/Governamental\n",
       "1            Casa  Casa/Governamental\n",
       "2            Casa  Casa/Governamental\n",
       "3            Casa  Casa/Governamental\n",
       "4   Governamental  Casa/Governamental"
      ]
     },
     "execution_count": 17,
     "metadata": {},
     "output_type": "execute_result"
    }
   ],
   "source": [
    "df.loc[ df['tipo_residencia'] == 'Casa', 'tipo_residencia2'] ='Casa/Governamental'\n",
    "df.loc[ df['tipo_residencia'] == 'Governamental', 'tipo_residencia2'] = 'Casa/Governamental'\n",
    "df.loc[ df['tipo_residencia'] == 'Com os pais', 'tipo_residencia2'] = 'Com os pais'\n",
    "df.loc[ df['tipo_residencia'] == 'Aluguel', 'tipo_residencia2'] = 'Aluguel'\n",
    "df.loc[ df['tipo_residencia'] == 'Estúdio', 'tipo_residencia2'] = 'Estúdio'\n",
    "\n",
    "df[['tipo_residencia','tipo_residencia2']].head()"
   ]
  },
  {
   "cell_type": "code",
   "execution_count": 18,
   "metadata": {},
   "outputs": [
    {
     "data": {
      "text/plain": [
       "array(['Casa/Governamental', 'Com os pais', 'Aluguel', 'Estúdio', nan],\n",
       "      dtype=object)"
      ]
     },
     "execution_count": 18,
     "metadata": {},
     "output_type": "execute_result"
    }
   ],
   "source": [
    "df['tipo_residencia2'].unique()"
   ]
  },
  {
   "cell_type": "markdown",
   "metadata": {},
   "source": [
    "#### Vamos criar uma nova variável 'tipo_renda' e unificar as classificações Assalariado/Bolsista"
   ]
  },
  {
   "cell_type": "code",
   "execution_count": 19,
   "metadata": {},
   "outputs": [
    {
     "data": {
      "text/plain": [
       "array(['Empresário', 'Assalariado', 'Servidor público', 'Pensionista',\n",
       "       'Bolsista'], dtype=object)"
      ]
     },
     "execution_count": 19,
     "metadata": {},
     "output_type": "execute_result"
    }
   ],
   "source": [
    "df['tipo_renda'].unique()"
   ]
  },
  {
   "cell_type": "code",
   "execution_count": 20,
   "metadata": {},
   "outputs": [
    {
     "data": {
      "text/html": [
       "<div>\n",
       "<style scoped>\n",
       "    .dataframe tbody tr th:only-of-type {\n",
       "        vertical-align: middle;\n",
       "    }\n",
       "\n",
       "    .dataframe tbody tr th {\n",
       "        vertical-align: top;\n",
       "    }\n",
       "\n",
       "    .dataframe thead th {\n",
       "        text-align: right;\n",
       "    }\n",
       "</style>\n",
       "<table border=\"1\" class=\"dataframe\">\n",
       "  <thead>\n",
       "    <tr style=\"text-align: right;\">\n",
       "      <th></th>\n",
       "      <th>tipo_renda</th>\n",
       "      <th>tipo_renda2</th>\n",
       "    </tr>\n",
       "  </thead>\n",
       "  <tbody>\n",
       "    <tr>\n",
       "      <th>0</th>\n",
       "      <td>Empresário</td>\n",
       "      <td>Empresário</td>\n",
       "    </tr>\n",
       "    <tr>\n",
       "      <th>1</th>\n",
       "      <td>Assalariado</td>\n",
       "      <td>Assalariado/Bolsista</td>\n",
       "    </tr>\n",
       "    <tr>\n",
       "      <th>2</th>\n",
       "      <td>Empresário</td>\n",
       "      <td>Empresário</td>\n",
       "    </tr>\n",
       "    <tr>\n",
       "      <th>3</th>\n",
       "      <td>Servidor público</td>\n",
       "      <td>Servidor público</td>\n",
       "    </tr>\n",
       "    <tr>\n",
       "      <th>4</th>\n",
       "      <td>Assalariado</td>\n",
       "      <td>Assalariado/Bolsista</td>\n",
       "    </tr>\n",
       "  </tbody>\n",
       "</table>\n",
       "</div>"
      ],
      "text/plain": [
       "         tipo_renda           tipo_renda2\n",
       "0        Empresário            Empresário\n",
       "1       Assalariado  Assalariado/Bolsista\n",
       "2        Empresário            Empresário\n",
       "3  Servidor público      Servidor público\n",
       "4       Assalariado  Assalariado/Bolsista"
      ]
     },
     "execution_count": 20,
     "metadata": {},
     "output_type": "execute_result"
    }
   ],
   "source": [
    "df.loc[ df['tipo_renda'] == 'Empresário', 'tipo_renda2'] ='Empresário'\n",
    "df.loc[ df['tipo_renda'] == 'Assalariado', 'tipo_renda2'] = 'Assalariado/Bolsista'\n",
    "df.loc[ df['tipo_renda'] == 'Servidor público', 'tipo_renda2'] = 'Servidor público'\n",
    "df.loc[ df['tipo_renda'] == 'Pensionista', 'tipo_renda2'] = 'Pensionista'\n",
    "df.loc[ df['tipo_renda'] == 'Bolsista', 'tipo_renda2'] = 'Assalariado/Bolsista'\n",
    "\n",
    "df[['tipo_renda','tipo_renda2']].head()"
   ]
  },
  {
   "cell_type": "code",
   "execution_count": 21,
   "metadata": {},
   "outputs": [
    {
     "data": {
      "text/plain": [
       "array(['Empresário', 'Assalariado/Bolsista', 'Servidor público',\n",
       "       'Pensionista'], dtype=object)"
      ]
     },
     "execution_count": 21,
     "metadata": {},
     "output_type": "execute_result"
    }
   ],
   "source": [
    "df['tipo_renda2'].unique()"
   ]
  },
  {
   "cell_type": "markdown",
   "metadata": {},
   "source": [
    "### Criando a nova Design Matrix com o Patsy"
   ]
  },
  {
   "cell_type": "code",
   "execution_count": 22,
   "metadata": {},
   "outputs": [
    {
     "data": {
      "text/plain": [
       "DesignMatrix with shape (14936, 11)\n",
       "  Columns:\n",
       "    ['Intercept',\n",
       "     'C(sexo, Treatment(0))[T.M]',\n",
       "     'C(posse_de_imovel, Treatment(1))[T.False]',\n",
       "     'C(tipo_renda2, Treatment(0))[T.Empresário]',\n",
       "     'C(tipo_renda2, Treatment(0))[T.Pensionista]',\n",
       "     'C(tipo_renda2, Treatment(0))[T.Servidor público]',\n",
       "     'C(educacao2, Treatment(2))[T.Primário/Secundário]',\n",
       "     'C(educacao2, Treatment(2))[T.Superior completo/Pós graduação]',\n",
       "     'C(tipo_residencia2, Treatment(1))[T.Aluguel]',\n",
       "     'C(tipo_residencia2, Treatment(1))[T.Com os pais]',\n",
       "     'C(tipo_residencia2, Treatment(1))[T.Estúdio]']\n",
       "  Terms:\n",
       "    'Intercept' (column 0)\n",
       "    'C(sexo, Treatment(0))' (column 1)\n",
       "    'C(posse_de_imovel, Treatment(1))' (column 2)\n",
       "    'C(tipo_renda2, Treatment(0))' (columns 3:6)\n",
       "    'C(educacao2, Treatment(2))' (columns 6:8)\n",
       "    'C(tipo_residencia2, Treatment(1))' (columns 8:11)\n",
       "  (to view full data, use np.asarray(this_obj))"
      ]
     },
     "execution_count": 22,
     "metadata": {},
     "output_type": "execute_result"
    }
   ],
   "source": [
    "y, x = patsy.dmatrices('np.log(renda) ~ C(sexo,Treatment(0)) +  C(posse_de_imovel, Treatment(1)) + C(tipo_renda2, Treatment(0)) + C(educacao2, Treatment(2)) + C(tipo_residencia2, Treatment(1))', data = df)\n",
    "x"
   ]
  },
  {
   "cell_type": "markdown",
   "metadata": {},
   "source": [
    "#### Rodando o modelo e avaliando os parâmetros"
   ]
  },
  {
   "cell_type": "code",
   "execution_count": 23,
   "metadata": {},
   "outputs": [
    {
     "data": {
      "text/html": [
       "<table class=\"simpletable\">\n",
       "<caption>OLS Regression Results</caption>\n",
       "<tr>\n",
       "  <th>Dep. Variable:</th>      <td>np.log(renda)</td>  <th>  R-squared:         </th> <td>   0.160</td> \n",
       "</tr>\n",
       "<tr>\n",
       "  <th>Model:</th>                   <td>OLS</td>       <th>  Adj. R-squared:    </th> <td>   0.160</td> \n",
       "</tr>\n",
       "<tr>\n",
       "  <th>Method:</th>             <td>Least Squares</td>  <th>  F-statistic:       </th> <td>   284.9</td> \n",
       "</tr>\n",
       "<tr>\n",
       "  <th>Date:</th>             <td>Tue, 19 Dec 2023</td> <th>  Prob (F-statistic):</th>  <td>  0.00</td>  \n",
       "</tr>\n",
       "<tr>\n",
       "  <th>Time:</th>                 <td>12:00:02</td>     <th>  Log-Likelihood:    </th> <td> -18036.</td> \n",
       "</tr>\n",
       "<tr>\n",
       "  <th>No. Observations:</th>      <td> 14936</td>      <th>  AIC:               </th> <td>3.609e+04</td>\n",
       "</tr>\n",
       "<tr>\n",
       "  <th>Df Residuals:</th>          <td> 14925</td>      <th>  BIC:               </th> <td>3.618e+04</td>\n",
       "</tr>\n",
       "<tr>\n",
       "  <th>Df Model:</th>              <td>    10</td>      <th>                     </th>     <td> </td>    \n",
       "</tr>\n",
       "<tr>\n",
       "  <th>Covariance Type:</th>      <td>nonrobust</td>    <th>                     </th>     <td> </td>    \n",
       "</tr>\n",
       "</table>\n",
       "<table class=\"simpletable\">\n",
       "<tr>\n",
       "                                <td></td>                                   <th>coef</th>     <th>std err</th>      <th>t</th>      <th>P>|t|</th>  <th>[0.025</th>    <th>0.975]</th>  \n",
       "</tr>\n",
       "<tr>\n",
       "  <th>Intercept</th>                                                     <td>    7.8592</td> <td>    0.036</td> <td>  221.090</td> <td> 0.000</td> <td>    7.789</td> <td>    7.929</td>\n",
       "</tr>\n",
       "<tr>\n",
       "  <th>C(sexo, Treatment(0))[T.M]</th>                                    <td>    0.6977</td> <td>    0.014</td> <td>   48.174</td> <td> 0.000</td> <td>    0.669</td> <td>    0.726</td>\n",
       "</tr>\n",
       "<tr>\n",
       "  <th>C(posse_de_imovel, Treatment(1))[T.False]</th>                     <td>   -0.0894</td> <td>    0.014</td> <td>   -6.202</td> <td> 0.000</td> <td>   -0.118</td> <td>   -0.061</td>\n",
       "</tr>\n",
       "<tr>\n",
       "  <th>C(tipo_renda2, Treatment(0))[T.Empresário]</th>                    <td>    0.0641</td> <td>    0.017</td> <td>    3.853</td> <td> 0.000</td> <td>    0.032</td> <td>    0.097</td>\n",
       "</tr>\n",
       "<tr>\n",
       "  <th>C(tipo_renda2, Treatment(0))[T.Pensionista]</th>                   <td>   -0.1566</td> <td>    0.019</td> <td>   -8.236</td> <td> 0.000</td> <td>   -0.194</td> <td>   -0.119</td>\n",
       "</tr>\n",
       "<tr>\n",
       "  <th>C(tipo_renda2, Treatment(0))[T.Servidor público]</th>              <td>    0.2126</td> <td>    0.025</td> <td>    8.570</td> <td> 0.000</td> <td>    0.164</td> <td>    0.261</td>\n",
       "</tr>\n",
       "<tr>\n",
       "  <th>C(educacao2, Treatment(2))[T.Primário/Secundário]</th>             <td>    0.1240</td> <td>    0.035</td> <td>    3.533</td> <td> 0.000</td> <td>    0.055</td> <td>    0.193</td>\n",
       "</tr>\n",
       "<tr>\n",
       "  <th>C(educacao2, Treatment(2))[T.Superior completo/Pós graduação]</th> <td>    0.2178</td> <td>    0.036</td> <td>    6.096</td> <td> 0.000</td> <td>    0.148</td> <td>    0.288</td>\n",
       "</tr>\n",
       "<tr>\n",
       "  <th>C(tipo_residencia2, Treatment(1))[T.Aluguel]</th>                  <td>   -0.1232</td> <td>    0.059</td> <td>   -2.098</td> <td> 0.036</td> <td>   -0.238</td> <td>   -0.008</td>\n",
       "</tr>\n",
       "<tr>\n",
       "  <th>C(tipo_residencia2, Treatment(1))[T.Com os pais]</th>              <td>   -0.1369</td> <td>    0.033</td> <td>   -4.213</td> <td> 0.000</td> <td>   -0.201</td> <td>   -0.073</td>\n",
       "</tr>\n",
       "<tr>\n",
       "  <th>C(tipo_residencia2, Treatment(1))[T.Estúdio]</th>                  <td>    0.1907</td> <td>    0.089</td> <td>    2.134</td> <td> 0.033</td> <td>    0.015</td> <td>    0.366</td>\n",
       "</tr>\n",
       "</table>\n",
       "<table class=\"simpletable\">\n",
       "<tr>\n",
       "  <th>Omnibus:</th>       <td>153.614</td> <th>  Durbin-Watson:     </th> <td>   2.025</td>\n",
       "</tr>\n",
       "<tr>\n",
       "  <th>Prob(Omnibus):</th> <td> 0.000</td>  <th>  Jarque-Bera (JB):  </th> <td> 176.600</td>\n",
       "</tr>\n",
       "<tr>\n",
       "  <th>Skew:</th>          <td> 0.198</td>  <th>  Prob(JB):          </th> <td>4.49e-39</td>\n",
       "</tr>\n",
       "<tr>\n",
       "  <th>Kurtosis:</th>      <td> 3.357</td>  <th>  Cond. No.          </th> <td>    18.3</td>\n",
       "</tr>\n",
       "</table><br/><br/>Notes:<br/>[1] Standard Errors assume that the covariance matrix of the errors is correctly specified."
      ],
      "text/plain": [
       "<class 'statsmodels.iolib.summary.Summary'>\n",
       "\"\"\"\n",
       "                            OLS Regression Results                            \n",
       "==============================================================================\n",
       "Dep. Variable:          np.log(renda)   R-squared:                       0.160\n",
       "Model:                            OLS   Adj. R-squared:                  0.160\n",
       "Method:                 Least Squares   F-statistic:                     284.9\n",
       "Date:                Tue, 19 Dec 2023   Prob (F-statistic):               0.00\n",
       "Time:                        12:00:02   Log-Likelihood:                -18036.\n",
       "No. Observations:               14936   AIC:                         3.609e+04\n",
       "Df Residuals:                   14925   BIC:                         3.618e+04\n",
       "Df Model:                          10                                         \n",
       "Covariance Type:            nonrobust                                         \n",
       "=================================================================================================================================\n",
       "                                                                    coef    std err          t      P>|t|      [0.025      0.975]\n",
       "---------------------------------------------------------------------------------------------------------------------------------\n",
       "Intercept                                                         7.8592      0.036    221.090      0.000       7.789       7.929\n",
       "C(sexo, Treatment(0))[T.M]                                        0.6977      0.014     48.174      0.000       0.669       0.726\n",
       "C(posse_de_imovel, Treatment(1))[T.False]                        -0.0894      0.014     -6.202      0.000      -0.118      -0.061\n",
       "C(tipo_renda2, Treatment(0))[T.Empresário]                        0.0641      0.017      3.853      0.000       0.032       0.097\n",
       "C(tipo_renda2, Treatment(0))[T.Pensionista]                      -0.1566      0.019     -8.236      0.000      -0.194      -0.119\n",
       "C(tipo_renda2, Treatment(0))[T.Servidor público]                  0.2126      0.025      8.570      0.000       0.164       0.261\n",
       "C(educacao2, Treatment(2))[T.Primário/Secundário]                 0.1240      0.035      3.533      0.000       0.055       0.193\n",
       "C(educacao2, Treatment(2))[T.Superior completo/Pós graduação]     0.2178      0.036      6.096      0.000       0.148       0.288\n",
       "C(tipo_residencia2, Treatment(1))[T.Aluguel]                     -0.1232      0.059     -2.098      0.036      -0.238      -0.008\n",
       "C(tipo_residencia2, Treatment(1))[T.Com os pais]                 -0.1369      0.033     -4.213      0.000      -0.201      -0.073\n",
       "C(tipo_residencia2, Treatment(1))[T.Estúdio]                      0.1907      0.089      2.134      0.033       0.015       0.366\n",
       "==============================================================================\n",
       "Omnibus:                      153.614   Durbin-Watson:                   2.025\n",
       "Prob(Omnibus):                  0.000   Jarque-Bera (JB):              176.600\n",
       "Skew:                           0.198   Prob(JB):                     4.49e-39\n",
       "Kurtosis:                       3.357   Cond. No.                         18.3\n",
       "==============================================================================\n",
       "\n",
       "Notes:\n",
       "[1] Standard Errors assume that the covariance matrix of the errors is correctly specified.\n",
       "\"\"\""
      ]
     },
     "execution_count": 23,
     "metadata": {},
     "output_type": "execute_result"
    }
   ],
   "source": [
    "reg = sm.OLS(y, x).fit()\n",
    "reg.summary()"
   ]
  },
  {
   "cell_type": "code",
   "execution_count": 24,
   "metadata": {},
   "outputs": [],
   "source": [
    "R2_final = reg.rsquared"
   ]
  },
  {
   "cell_type": "code",
   "execution_count": 25,
   "metadata": {},
   "outputs": [],
   "source": [
    "R2_ajust_final = reg.rsquared_adj"
   ]
  },
  {
   "cell_type": "code",
   "execution_count": 26,
   "metadata": {},
   "outputs": [
    {
     "data": {
      "text/plain": [
       "36094.6404507565"
      ]
     },
     "execution_count": 26,
     "metadata": {},
     "output_type": "execute_result"
    }
   ],
   "source": [
    "AIC_final = reg.aic\n",
    "AIC_final"
   ]
  },
  {
   "cell_type": "markdown",
   "metadata": {},
   "source": [
    "# Comparativo entre o modelo inicial (com todas as variáveis) e o final"
   ]
  },
  {
   "cell_type": "code",
   "execution_count": 27,
   "metadata": {},
   "outputs": [
    {
     "data": {
      "text/html": [
       "<div>\n",
       "<style scoped>\n",
       "    .dataframe tbody tr th:only-of-type {\n",
       "        vertical-align: middle;\n",
       "    }\n",
       "\n",
       "    .dataframe tbody tr th {\n",
       "        vertical-align: top;\n",
       "    }\n",
       "\n",
       "    .dataframe thead th {\n",
       "        text-align: right;\n",
       "    }\n",
       "</style>\n",
       "<table border=\"1\" class=\"dataframe\">\n",
       "  <thead>\n",
       "    <tr style=\"text-align: right;\">\n",
       "      <th></th>\n",
       "      <th>Modelos</th>\n",
       "      <th>R2</th>\n",
       "      <th>R2_ajustado</th>\n",
       "      <th>AIC</th>\n",
       "    </tr>\n",
       "  </thead>\n",
       "  <tbody>\n",
       "    <tr>\n",
       "      <th>0</th>\n",
       "      <td>Modelo Inicial</td>\n",
       "      <td>0.161934</td>\n",
       "      <td>0.160815</td>\n",
       "      <td>36241.337462</td>\n",
       "    </tr>\n",
       "    <tr>\n",
       "      <th>1</th>\n",
       "      <td>Modelo Final</td>\n",
       "      <td>0.160289</td>\n",
       "      <td>0.159726</td>\n",
       "      <td>36094.640451</td>\n",
       "    </tr>\n",
       "  </tbody>\n",
       "</table>\n",
       "</div>"
      ],
      "text/plain": [
       "          Modelos        R2  R2_ajustado           AIC\n",
       "0  Modelo Inicial  0.161934     0.160815  36241.337462\n",
       "1    Modelo Final  0.160289     0.159726  36094.640451"
      ]
     },
     "execution_count": 27,
     "metadata": {},
     "output_type": "execute_result"
    }
   ],
   "source": [
    "R2_modelos = { 'Modelos': ['Modelo Inicial','Modelo Final'],\n",
    "               'R2': [R2_inicial,R2_final],\n",
    "              'R2_ajustado': [R2_ajust_inicial,R2_ajust_final],\n",
    "              'AIC' : [AIC_inicial,AIC_final]\n",
    "             }\n",
    "df2= pd.DataFrame(R2_modelos)\n",
    "df2"
   ]
  },
  {
   "cell_type": "markdown",
   "metadata": {},
   "source": [
    "Com a retirada das variáveis o modelo final teve uma pequena redução no R2, contudo, segundo o critério do AIC, houve uma pequena melhora no modelo devido a redução da complexidade."
   ]
  }
 ],
 "metadata": {
  "kernelspec": {
   "display_name": "Python 3 (ipykernel)",
   "language": "python",
   "name": "python3"
  },
  "language_info": {
   "codemirror_mode": {
    "name": "ipython",
    "version": 3
   },
   "file_extension": ".py",
   "mimetype": "text/x-python",
   "name": "python",
   "nbconvert_exporter": "python",
   "pygments_lexer": "ipython3",
   "version": "3.11.5"
  }
 },
 "nbformat": 4,
 "nbformat_minor": 4
}
